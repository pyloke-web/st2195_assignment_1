{
 "cells": [
  {
   "cell_type": "markdown",
   "id": "ad138e01",
   "metadata": {},
   "source": [
    "# Assignment1_Markdown\n",
    "\n",
    "This is a markdown for *Jupyter Notebook*. Markdown is a simple formatting syntax for authoring HTML, PDF, and MS Word documents. \n",
    "\n",
    "### R Markdown\n",
    "You can embed an **R code** chunk like this:\n",
    "\n",
    "```r\n",
    "print(1:10)\n",
    "```\n",
    "\n",
    "## Python\n",
    "\n",
    "or **python code** chunk like this:\n",
    "\n",
    "```Python\n",
    "for i in range(1,11): print(i)\n",
    "```\n",
    "\n"
   ]
  }
 ],
 "metadata": {
  "kernelspec": {
   "display_name": "Python 3 (ipykernel)",
   "language": "python",
   "name": "python3"
  },
  "language_info": {
   "codemirror_mode": {
    "name": "ipython",
    "version": 3
   },
   "file_extension": ".py",
   "mimetype": "text/x-python",
   "name": "python",
   "nbconvert_exporter": "python",
   "pygments_lexer": "ipython3",
   "version": "3.9.7"
  }
 },
 "nbformat": 4,
 "nbformat_minor": 5
}
