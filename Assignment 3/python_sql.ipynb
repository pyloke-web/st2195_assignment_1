{
 "cells": [
  {
   "cell_type": "code",
   "execution_count": 3,
   "id": "b1fb987d",
   "metadata": {},
   "outputs": [],
   "source": [
    "import sqlite3\n",
    "import pandas as pd"
   ]
  },
  {
   "cell_type": "code",
   "execution_count": 4,
   "id": "2049c2ac",
   "metadata": {},
   "outputs": [],
   "source": [
    "# Connect to the database file or create it if it doesn't exist\n",
    "conn = sqlite3.connect('C:/Users/user/OneDrive - JLYON/Desktop/airline2.db')\n",
    "\n",
    "# Create a cursor object to execute SQL commands\n",
    "c = conn.cursor()"
   ]
  },
  {
   "cell_type": "markdown",
   "id": "30c0a71d",
   "metadata": {},
   "source": [
    "Which of the following companies has the highest number of cancelled flights?"
   ]
  },
  {
   "cell_type": "code",
   "execution_count": 5,
   "id": "7050c9d9",
   "metadata": {},
   "outputs": [],
   "source": [
    "query = \"\"\"SELECT carriers.Description, count(*)\n",
    "FROM carriers JOIN ontime ON ontime.UniqueCarrier = carriers.Code\n",
    "WHERE ontime.Cancelled =1 \n",
    "GROUP BY carriers.Description\n",
    "ORDER BY count() DESC\"\"\"\n",
    "result = c.execute(query)"
   ]
  },
  {
   "cell_type": "code",
   "execution_count": 40,
   "id": "ca884c2e",
   "metadata": {},
   "outputs": [
    {
     "data": {
      "text/html": [
       "<div>\n",
       "<style scoped>\n",
       "    .dataframe tbody tr th:only-of-type {\n",
       "        vertical-align: middle;\n",
       "    }\n",
       "\n",
       "    .dataframe tbody tr th {\n",
       "        vertical-align: top;\n",
       "    }\n",
       "\n",
       "    .dataframe thead th {\n",
       "        text-align: right;\n",
       "    }\n",
       "</style>\n",
       "<table border=\"1\" class=\"dataframe\">\n",
       "  <thead>\n",
       "    <tr style=\"text-align: right;\">\n",
       "      <th></th>\n",
       "      <th>Description</th>\n",
       "      <th>count(*)</th>\n",
       "    </tr>\n",
       "  </thead>\n",
       "  <tbody>\n",
       "    <tr>\n",
       "      <th>0</th>\n",
       "      <td>Delta Air Lines Inc.</td>\n",
       "      <td>107851</td>\n",
       "    </tr>\n",
       "    <tr>\n",
       "      <th>1</th>\n",
       "      <td>American Airlines Inc.</td>\n",
       "      <td>105762</td>\n",
       "    </tr>\n",
       "    <tr>\n",
       "      <th>2</th>\n",
       "      <td>United Air Lines Inc.</td>\n",
       "      <td>102066</td>\n",
       "    </tr>\n",
       "    <tr>\n",
       "      <th>3</th>\n",
       "      <td>American Eagle Airlines Inc.</td>\n",
       "      <td>96365</td>\n",
       "    </tr>\n",
       "    <tr>\n",
       "      <th>4</th>\n",
       "      <td>US Airways Inc. (Merged with America West 9/05...</td>\n",
       "      <td>85866</td>\n",
       "    </tr>\n",
       "  </tbody>\n",
       "</table>\n",
       "</div>"
      ],
      "text/plain": [
       "                                         Description  count(*)\n",
       "0                               Delta Air Lines Inc.    107851\n",
       "1                             American Airlines Inc.    105762\n",
       "2                              United Air Lines Inc.    102066\n",
       "3                       American Eagle Airlines Inc.     96365\n",
       "4  US Airways Inc. (Merged with America West 9/05...     85866"
      ]
     },
     "execution_count": 40,
     "metadata": {},
     "output_type": "execute_result"
    }
   ],
   "source": [
    "pd.read_sql_query(query,conn).head()"
   ]
  },
  {
   "cell_type": "code",
   "execution_count": 41,
   "id": "9d57c27f",
   "metadata": {},
   "outputs": [
    {
     "name": "stdout",
     "output_type": "stream",
     "text": [
      "DELTA has the highest number of cancelled flights\n"
     ]
    }
   ],
   "source": [
    "print(\"DELTA has the highest number of cancelled flights\")"
   ]
  },
  {
   "cell_type": "markdown",
   "id": "fbf91d07",
   "metadata": {},
   "source": [
    "Which of the following airplanes has the lowest associated average departure delay (excluding cancelled and diverted flights)?"
   ]
  },
  {
   "cell_type": "code",
   "execution_count": 6,
   "id": "113861a7",
   "metadata": {},
   "outputs": [],
   "source": [
    "query2 = \"\"\"SELECT plane.model, avg(ontime.DepDelay)\n",
    "FROM plane JOIN ontime USING(tailnum)\n",
    "WHERE ontime.cancelled = 0 AND ontime.Diverted=0 AND ontime.DepDelay>0\n",
    "GROUP BY model\n",
    "ORDER BY avg(ontime.DepDelay)\"\"\"\n",
    "result = c.execute(query2)"
   ]
  },
  {
   "cell_type": "code",
   "execution_count": 7,
   "id": "4410b1ff",
   "metadata": {},
   "outputs": [
    {
     "data": {
      "text/html": [
       "<div>\n",
       "<style scoped>\n",
       "    .dataframe tbody tr th:only-of-type {\n",
       "        vertical-align: middle;\n",
       "    }\n",
       "\n",
       "    .dataframe tbody tr th {\n",
       "        vertical-align: top;\n",
       "    }\n",
       "\n",
       "    .dataframe thead th {\n",
       "        text-align: right;\n",
       "    }\n",
       "</style>\n",
       "<table border=\"1\" class=\"dataframe\">\n",
       "  <thead>\n",
       "    <tr style=\"text-align: right;\">\n",
       "      <th></th>\n",
       "      <th>model</th>\n",
       "      <th>avg(ontime.DepDelay)</th>\n",
       "    </tr>\n",
       "  </thead>\n",
       "  <tbody>\n",
       "    <tr>\n",
       "      <th>0</th>\n",
       "      <td>737-2Y5</td>\n",
       "      <td>7.022026</td>\n",
       "    </tr>\n",
       "    <tr>\n",
       "      <th>1</th>\n",
       "      <td>737-282</td>\n",
       "      <td>8.433566</td>\n",
       "    </tr>\n",
       "    <tr>\n",
       "      <th>2</th>\n",
       "      <td>737-230</td>\n",
       "      <td>10.458647</td>\n",
       "    </tr>\n",
       "    <tr>\n",
       "      <th>3</th>\n",
       "      <td>737-282C</td>\n",
       "      <td>11.765766</td>\n",
       "    </tr>\n",
       "    <tr>\n",
       "      <th>4</th>\n",
       "      <td>767-324</td>\n",
       "      <td>15.788051</td>\n",
       "    </tr>\n",
       "  </tbody>\n",
       "</table>\n",
       "</div>"
      ],
      "text/plain": [
       "      model  avg(ontime.DepDelay)\n",
       "0   737-2Y5              7.022026\n",
       "1   737-282              8.433566\n",
       "2   737-230             10.458647\n",
       "3  737-282C             11.765766\n",
       "4   767-324             15.788051"
      ]
     },
     "execution_count": 7,
     "metadata": {},
     "output_type": "execute_result"
    }
   ],
   "source": [
    "pd.read_sql_query(query2,conn).head()"
   ]
  },
  {
   "cell_type": "code",
   "execution_count": 15,
   "id": "c030da4a",
   "metadata": {},
   "outputs": [
    {
     "name": "stdout",
     "output_type": "stream",
     "text": [
      "737-2Y5 has the lowest associated average departure delay\n"
     ]
    }
   ],
   "source": [
    "print(\"737-2Y5 has the lowest associated average departure delay\")"
   ]
  },
  {
   "cell_type": "markdown",
   "id": "bd8c096a",
   "metadata": {},
   "source": [
    "Which of the following companies has the highest number of cancelled flights, relative to their number of total flights?"
   ]
  },
  {
   "cell_type": "code",
   "execution_count": 8,
   "id": "fb7d9925",
   "metadata": {},
   "outputs": [],
   "source": [
    "query3 = \"\"\"SELECT q1.carrier AS carrier, (CAST(q1.numerator AS FLOAT)/ CAST(q2.denominator AS FLOAT)) AS ratio\n",
    "\n",
    "FROM\n",
    "(SELECT carriers.Description AS carrier, COUNT(*) AS numerator\n",
    "FROM carriers JOIN ontime ON ontime.UniqueCarrier = carriers.Code\n",
    "WHERE ontime.Cancelled = 1 AND carriers.Description IN ('United Air Lines Inc.', 'American Airlines Inc.', 'Pinnacle Airlines Inc.', 'Delta Air Lines Inc.')\n",
    "GROUP BY carriers.Description\n",
    ") AS q1 JOIN\n",
    "\n",
    "(SELECT carriers.Description AS carrier, COUNT(*) AS denominator\n",
    "FROM carriers JOIN ontime ON ontime.UniqueCarrier = carriers.Code\n",
    "WHERE carriers.Description IN ('United Air Lines Inc.', 'American Airlines Inc.', 'Pinnacle Airlines Inc.', 'Delta Air Lines Inc.')\n",
    "GROUP BY carriers.Description\n",
    ") AS q2 USING(carrier)\n",
    "\n",
    "ORDER BY ratio DESC\"\"\"\n",
    "result = c.execute(query3)"
   ]
  },
  {
   "cell_type": "code",
   "execution_count": 9,
   "id": "85920509",
   "metadata": {},
   "outputs": [
    {
     "data": {
      "text/html": [
       "<div>\n",
       "<style scoped>\n",
       "    .dataframe tbody tr th:only-of-type {\n",
       "        vertical-align: middle;\n",
       "    }\n",
       "\n",
       "    .dataframe tbody tr th {\n",
       "        vertical-align: top;\n",
       "    }\n",
       "\n",
       "    .dataframe thead th {\n",
       "        text-align: right;\n",
       "    }\n",
       "</style>\n",
       "<table border=\"1\" class=\"dataframe\">\n",
       "  <thead>\n",
       "    <tr style=\"text-align: right;\">\n",
       "      <th></th>\n",
       "      <th>carrier</th>\n",
       "      <th>ratio</th>\n",
       "    </tr>\n",
       "  </thead>\n",
       "  <tbody>\n",
       "    <tr>\n",
       "      <th>0</th>\n",
       "      <td>United Air Lines Inc.</td>\n",
       "      <td>0.027924</td>\n",
       "    </tr>\n",
       "    <tr>\n",
       "      <th>1</th>\n",
       "      <td>Delta Air Lines Inc.</td>\n",
       "      <td>0.024082</td>\n",
       "    </tr>\n",
       "    <tr>\n",
       "      <th>2</th>\n",
       "      <td>American Airlines Inc.</td>\n",
       "      <td>0.023841</td>\n",
       "    </tr>\n",
       "  </tbody>\n",
       "</table>\n",
       "</div>"
      ],
      "text/plain": [
       "                  carrier     ratio\n",
       "0   United Air Lines Inc.  0.027924\n",
       "1    Delta Air Lines Inc.  0.024082\n",
       "2  American Airlines Inc.  0.023841"
      ]
     },
     "execution_count": 9,
     "metadata": {},
     "output_type": "execute_result"
    }
   ],
   "source": [
    "pd.read_sql_query(query3,conn).head()"
   ]
  },
  {
   "cell_type": "code",
   "execution_count": 14,
   "id": "f68efc8a",
   "metadata": {},
   "outputs": [
    {
     "name": "stdout",
     "output_type": "stream",
     "text": [
      "United Air Lines Inc as the highest number of cancelled flights, relative to their number of total flights\n"
     ]
    }
   ],
   "source": [
    "print(\"United Air Lines Inc as the highest number of cancelled flights, relative to their number of total flights\")"
   ]
  },
  {
   "cell_type": "markdown",
   "id": "3050ebf5",
   "metadata": {},
   "source": [
    "Which of the following cities has the highest number of inbound flights (excluding cancelled flights)?"
   ]
  },
  {
   "cell_type": "code",
   "execution_count": 11,
   "id": "cfde8a5a",
   "metadata": {},
   "outputs": [],
   "source": [
    "query4= \"\"\"SELECT airports.city AS cities, count(*)\n",
    "FROM airports JOIN ontime ON ontime.dest = airports.iata\n",
    "WHERE ontime.Cancelled = 0\n",
    "GROUP BY airports.city\n",
    "ORDER BY count() DESC\"\"\"\n",
    "result = c.execute(query4)"
   ]
  },
  {
   "cell_type": "code",
   "execution_count": 12,
   "id": "e6fb042a",
   "metadata": {},
   "outputs": [
    {
     "data": {
      "text/html": [
       "<div>\n",
       "<style scoped>\n",
       "    .dataframe tbody tr th:only-of-type {\n",
       "        vertical-align: middle;\n",
       "    }\n",
       "\n",
       "    .dataframe tbody tr th {\n",
       "        vertical-align: top;\n",
       "    }\n",
       "\n",
       "    .dataframe thead th {\n",
       "        text-align: right;\n",
       "    }\n",
       "</style>\n",
       "<table border=\"1\" class=\"dataframe\">\n",
       "  <thead>\n",
       "    <tr style=\"text-align: right;\">\n",
       "      <th></th>\n",
       "      <th>cities</th>\n",
       "      <th>count(*)</th>\n",
       "    </tr>\n",
       "  </thead>\n",
       "  <tbody>\n",
       "    <tr>\n",
       "      <th>0</th>\n",
       "      <td>Chicago</td>\n",
       "      <td>2388365</td>\n",
       "    </tr>\n",
       "    <tr>\n",
       "      <th>1</th>\n",
       "      <td>Atlanta</td>\n",
       "      <td>1912370</td>\n",
       "    </tr>\n",
       "    <tr>\n",
       "      <th>2</th>\n",
       "      <td>Dallas-Fort Worth</td>\n",
       "      <td>1781833</td>\n",
       "    </tr>\n",
       "    <tr>\n",
       "      <th>3</th>\n",
       "      <td>Houston</td>\n",
       "      <td>1304407</td>\n",
       "    </tr>\n",
       "    <tr>\n",
       "      <th>4</th>\n",
       "      <td>Los Angeles</td>\n",
       "      <td>1279514</td>\n",
       "    </tr>\n",
       "  </tbody>\n",
       "</table>\n",
       "</div>"
      ],
      "text/plain": [
       "              cities  count(*)\n",
       "0            Chicago   2388365\n",
       "1            Atlanta   1912370\n",
       "2  Dallas-Fort Worth   1781833\n",
       "3            Houston   1304407\n",
       "4        Los Angeles   1279514"
      ]
     },
     "execution_count": 12,
     "metadata": {},
     "output_type": "execute_result"
    }
   ],
   "source": [
    "pd.read_sql_query(query4,conn).head()"
   ]
  },
  {
   "cell_type": "code",
   "execution_count": 13,
   "id": "2a91a9e1",
   "metadata": {},
   "outputs": [
    {
     "name": "stdout",
     "output_type": "stream",
     "text": [
      "Chicago has the highest number of inbound flights\n"
     ]
    }
   ],
   "source": [
    "print(\"Chicago has the highest number of inbound flights\")"
   ]
  }
 ],
 "metadata": {
  "kernelspec": {
   "display_name": "Python 3 (ipykernel)",
   "language": "python",
   "name": "python3"
  },
  "language_info": {
   "codemirror_mode": {
    "name": "ipython",
    "version": 3
   },
   "file_extension": ".py",
   "mimetype": "text/x-python",
   "name": "python",
   "nbconvert_exporter": "python",
   "pygments_lexer": "ipython3",
   "version": "3.9.7"
  }
 },
 "nbformat": 4,
 "nbformat_minor": 5
}
